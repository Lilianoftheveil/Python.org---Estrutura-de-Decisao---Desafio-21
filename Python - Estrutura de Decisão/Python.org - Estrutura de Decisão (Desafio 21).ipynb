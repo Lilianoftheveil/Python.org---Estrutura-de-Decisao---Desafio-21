{
 "cells": [
  {
   "cell_type": "code",
   "execution_count": null,
   "id": "f704985c",
   "metadata": {},
   "outputs": [],
   "source": [
    "Python - Lista de Exercícios (Estrutura de Decisão) \n",
    "link: https://wiki.python.org.br/EstruturaDeDecisao"
   ]
  },
  {
   "cell_type": "markdown",
   "id": "0788cfd9",
   "metadata": {},
   "source": [
    "21) Faça um Programa para um caixa eletrônico. O programa deverá perguntar ao usuário a valor do saque e \n",
    "depois informar quantas notas de cada valor serão fornecidas. \n",
    "\n",
    "As notas disponíveis serão as de 1, 5, 10, 50 e 100 reais. O valor mínimo é de 10 reais e o máximo de 600 reais.\n",
    "O programa não deve se preocupar com a quantidade de notas existentes na máquina.\n",
    "\n",
    "Exemplo 1: Para sacar a quantia de 256 reais, o programa fornece duas notas de 100, uma nota de 50, uma nota de 5 e uma nota de 1;\n",
    "Exemplo 2: Para sacar a quantia de 399 reais, o programa fornece três notas de 100, uma nota de 50, \n",
    "quatro notas de 10, uma nota de 5 e quatro notas de 1."
   ]
  },
  {
   "cell_type": "code",
   "execution_count": null,
   "id": "6d7cf684",
   "metadata": {},
   "outputs": [],
   "source": [
    "Obs.: Visando desenvolver o programa de forma mais dinâmica e menos suscetível a erros, adicionei \n",
    "outras estruturas no corpo do código. De modo que apenas números positivos sejam aceitos\n",
    "durante sua execução."
   ]
  },
  {
   "cell_type": "code",
   "execution_count": null,
   "id": "eb6d47b6",
   "metadata": {},
   "outputs": [],
   "source": [
    "while True:\n",
    "  x = input(\"Valor do Saque: \")\n",
    "  try:\n",
    "    float(x)\n",
    "    if float(x) < 0: \n",
    "      print(\"Por favor, digite apenas positivos.\")\n",
    "      continue\n",
    "    else:\n",
    "      break\n",
    "  except:\n",
    "    print(\"Por favor, digite apenas números.\")\n",
    "\n",
    "x = float(x)\n",
    "n100, n50, n10, n5, n1 = 0, 0, 0, 0, 0\n",
    "if x < 10 or x > 600:\n",
    "  print(\"O valor mínimo é de 10 reais e o máximo de 600 reais.\")\n",
    "else:\n",
    "  while x >= 100:\n",
    "    x = x - 100\n",
    "    n100 = n100 + 1\n",
    "      \n",
    "  while x >= 50 and x < 100:\n",
    "    x = x - 50\n",
    "    n50 = n50 + 1\n",
    "    \n",
    "  while x >= 10 and x < 50:\n",
    "    x = x - 10\n",
    "    n10 = n10 + 1\n",
    "      \n",
    "  while x >= 5 and x < 10:\n",
    "    x = x - 5\n",
    "    n5 = n5 + 1\n",
    "      \n",
    "  while x >= 1 and x < 5:\n",
    "    x = x - 1\n",
    "    n1 = n1 + 1\n",
    "\n",
    "  print(f\"{n100} Notas de 100 R$\\n{n50} Notas de 50 R$\\n{n10} Notas de 10 R$\\n{n5} Notas de 5 R$\\n{n1} Notas de 1 R$\")"
   ]
  }
 ],
 "metadata": {
  "kernelspec": {
   "display_name": "Python 3 (ipykernel)",
   "language": "python",
   "name": "python3"
  },
  "language_info": {
   "codemirror_mode": {
    "name": "ipython",
    "version": 3
   },
   "file_extension": ".py",
   "mimetype": "text/x-python",
   "name": "python",
   "nbconvert_exporter": "python",
   "pygments_lexer": "ipython3",
   "version": "3.8.10"
  }
 },
 "nbformat": 4,
 "nbformat_minor": 5
}
